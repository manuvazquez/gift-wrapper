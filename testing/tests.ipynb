{
 "cells": [
  {
   "cell_type": "code",
   "execution_count": 1,
   "metadata": {},
   "outputs": [
    {
     "name": "stderr",
     "output_type": "stream",
     "text": [
      "/home/manu/Sync/git/gift-wrapper/gift_wrapper/core.py:6: TqdmExperimentalWarning: Using `tqdm.autonotebook.tqdm` in notebook mode. Use `tqdm.tqdm` instead to force console mode (e.g. in jupyter console)\n",
      "  from tqdm.autonotebook import tqdm\n",
      "/home/manu/mambaforge/envs/gift/lib/python3.12/site-packages/paramiko/transport.py:219: CryptographyDeprecationWarning: Blowfish has been deprecated and will be removed in a future release\n",
      "  \"class\": algorithms.Blowfish,\n"
     ]
    }
   ],
   "source": [
    "import pathlib\n",
    "import os\n",
    "import filecmp\n",
    "\n",
    "import gift_wrapper.core"
   ]
  },
  {
   "attachments": {},
   "cell_type": "markdown",
   "metadata": {},
   "source": [
    "The file containing the *expected* output"
   ]
  },
  {
   "cell_type": "code",
   "execution_count": 2,
   "metadata": {},
   "outputs": [
    {
     "data": {
      "text/plain": [
       "PosixPath('desired.gift.txt')"
      ]
     },
     "execution_count": 2,
     "metadata": {},
     "output_type": "execute_result"
    }
   ],
   "source": [
    "desired_output_file = pathlib.Path('desired.gift.txt')\n",
    "desired_output_file"
   ]
  },
  {
   "attachments": {},
   "cell_type": "markdown",
   "metadata": {},
   "source": [
    "A list with tuples `(directory, input_file)` specifying the relevant data for each test case."
   ]
  },
  {
   "cell_type": "code",
   "execution_count": 3,
   "metadata": {},
   "outputs": [
    {
     "data": {
      "text/plain": [
       "[('1', 'sample.yaml'),\n",
       " ('2', 'first_midterm.yaml'),\n",
       " ('3', 'first_midterm.yaml'),\n",
       " ('4', 'primer_parcial.yaml')]"
      ]
     },
     "execution_count": 3,
     "metadata": {},
     "output_type": "execute_result"
    }
   ],
   "source": [
    "subdir_filename = [\n",
    "    ('1', 'sample.yaml'),\n",
    "    ('2', 'first_midterm.yaml'),\n",
    "    ('3', 'first_midterm.yaml'),\n",
    "    ('4', 'primer_parcial.yaml'),\n",
    "    ]\n",
    "subdir_filename"
   ]
  },
  {
   "attachments": {},
   "cell_type": "markdown",
   "metadata": {},
   "source": [
    "The current working directory"
   ]
  },
  {
   "cell_type": "code",
   "execution_count": 4,
   "metadata": {},
   "outputs": [
    {
     "data": {
      "text/plain": [
       "PosixPath('/home/manu/Sync/git/gift-wrapper/testing')"
      ]
     },
     "execution_count": 4,
     "metadata": {},
     "output_type": "execute_result"
    }
   ],
   "source": [
    "cwd = pathlib.Path.cwd()\n",
    "cwd"
   ]
  },
  {
   "attachments": {},
   "cell_type": "markdown",
   "metadata": {},
   "source": [
    "The parameters file used is the *default* one in the root directory of the project."
   ]
  },
  {
   "cell_type": "code",
   "execution_count": 5,
   "metadata": {},
   "outputs": [
    {
     "name": "stdout",
     "output_type": "stream",
     "text": [
      "/home/manu/Sync/git/gift-wrapper/parameters.yaml\n"
     ]
    }
   ],
   "source": [
    "parameters_file = cwd.parent / 'parameters.yaml'\n",
    "print(parameters_file)\n",
    "assert parameters_file.exists()"
   ]
  },
  {
   "attachments": {},
   "cell_type": "markdown",
   "metadata": {},
   "source": [
    "We go through every test *sub*directory"
   ]
  },
  {
   "cell_type": "code",
   "execution_count": 6,
   "metadata": {},
   "outputs": [
    {
     "name": "stdout",
     "output_type": "stream",
     "text": [
      "processing /home/manu/Sync/git/gift-wrapper/testing/1/sample.yaml...\n",
      "--------------------\n"
     ]
    },
    {
     "data": {
      "application/vnd.jupyter.widget-view+json": {
       "model_id": "",
       "version_major": 2,
       "version_minor": 0
      },
      "text/plain": [
       "category:   0%|          | 0/2 [00:00<?, ?it/s]"
      ]
     },
     "metadata": {},
     "output_type": "display_data"
    },
    {
     "data": {
      "application/vnd.jupyter.widget-view+json": {
       "model_id": "",
       "version_major": 2,
       "version_minor": 0
      },
      "text/plain": [
       "question:   0%|          | 0/2 [00:00<?, ?it/s]"
      ]
     },
     "metadata": {},
     "output_type": "display_data"
    },
    {
     "data": {
      "application/vnd.jupyter.widget-view+json": {
       "model_id": "",
       "version_major": 2,
       "version_minor": 0
      },
      "text/plain": [
       "question:   0%|          | 0/2 [00:00<?, ?it/s]"
      ]
     },
     "metadata": {},
     "output_type": "display_data"
    },
    {
     "name": "stdout",
     "output_type": "stream",
     "text": [
      "file \"sample.gift.txt\" created\n",
      "you *should* copy:\n",
      "sample_images/1D_3_elements.svg to public_html/example/sample_images in hidra1\n",
      "sample_images/quixote.svg to public_html/example/sample_images in hidra1\n",
      "processing /home/manu/Sync/git/gift-wrapper/testing/2/first_midterm.yaml...\n",
      "--------------------\n"
     ]
    },
    {
     "data": {
      "application/vnd.jupyter.widget-view+json": {
       "model_id": "",
       "version_major": 2,
       "version_minor": 0
      },
      "text/plain": [
       "category:   0%|          | 0/1 [00:00<?, ?it/s]"
      ]
     },
     "metadata": {},
     "output_type": "display_data"
    },
    {
     "data": {
      "application/vnd.jupyter.widget-view+json": {
       "model_id": "",
       "version_major": 2,
       "version_minor": 0
      },
      "text/plain": [
       "question:   0%|          | 0/8 [00:00<?, ?it/s]"
      ]
     },
     "metadata": {},
     "output_type": "display_data"
    },
    {
     "name": "stdout",
     "output_type": "stream",
     "text": [
      "file \"first_midterm.gift.txt\" created\n",
      "you *should* copy:\n",
      "constellations/1D_2_elements.svg to public_html/tc/midterm2/constellations in hidra1\n",
      "processing /home/manu/Sync/git/gift-wrapper/testing/3/first_midterm.yaml...\n",
      "--------------------\n"
     ]
    },
    {
     "data": {
      "application/vnd.jupyter.widget-view+json": {
       "model_id": "",
       "version_major": 2,
       "version_minor": 0
      },
      "text/plain": [
       "category:   0%|          | 0/4 [00:00<?, ?it/s]"
      ]
     },
     "metadata": {},
     "output_type": "display_data"
    },
    {
     "data": {
      "application/vnd.jupyter.widget-view+json": {
       "model_id": "",
       "version_major": 2,
       "version_minor": 0
      },
      "text/plain": [
       "question:   0%|          | 0/4 [00:00<?, ?it/s]"
      ]
     },
     "metadata": {},
     "output_type": "display_data"
    },
    {
     "data": {
      "application/vnd.jupyter.widget-view+json": {
       "model_id": "",
       "version_major": 2,
       "version_minor": 0
      },
      "text/plain": [
       "question:   0%|          | 0/17 [00:00<?, ?it/s]"
      ]
     },
     "metadata": {},
     "output_type": "display_data"
    },
    {
     "data": {
      "application/vnd.jupyter.widget-view+json": {
       "model_id": "",
       "version_major": 2,
       "version_minor": 0
      },
      "text/plain": [
       "question:   0%|          | 0/5 [00:00<?, ?it/s]"
      ]
     },
     "metadata": {},
     "output_type": "display_data"
    },
    {
     "data": {
      "application/vnd.jupyter.widget-view+json": {
       "model_id": "",
       "version_major": 2,
       "version_minor": 0
      },
      "text/plain": [
       "question:   0%|          | 0/7 [00:00<?, ?it/s]"
      ]
     },
     "metadata": {},
     "output_type": "display_data"
    },
    {
     "name": "stdout",
     "output_type": "stream",
     "text": [
      "file \"first_midterm.gift.txt\" created\n",
      "you *should* copy:\n",
      "graph_dijkstra_56.svg to public_html/tatsc/midterm in hidra1\n",
      "tanner_graph_42.svg to public_html/tatsc/midterm in hidra1\n",
      "tanner_graph_52.svg to public_html/tatsc/midterm in hidra1\n",
      "tanner_graph_55.svg to public_html/tatsc/midterm in hidra1\n",
      "tanner_graph_60.svg to public_html/tatsc/midterm in hidra1\n",
      "tanner_graph_66.svg to public_html/tatsc/midterm in hidra1\n",
      "tanner_graph_88.svg to public_html/tatsc/midterm in hidra1\n",
      "tanner_graph_99.svg to public_html/tatsc/midterm in hidra1\n",
      "processing /home/manu/Sync/git/gift-wrapper/testing/4/primer_parcial.yaml...\n",
      "--------------------\n"
     ]
    },
    {
     "data": {
      "application/vnd.jupyter.widget-view+json": {
       "model_id": "",
       "version_major": 2,
       "version_minor": 0
      },
      "text/plain": [
       "category:   0%|          | 0/5 [00:00<?, ?it/s]"
      ]
     },
     "metadata": {},
     "output_type": "display_data"
    },
    {
     "data": {
      "application/vnd.jupyter.widget-view+json": {
       "model_id": "",
       "version_major": 2,
       "version_minor": 0
      },
      "text/plain": [
       "question:   0%|          | 0/3 [00:00<?, ?it/s]"
      ]
     },
     "metadata": {},
     "output_type": "display_data"
    },
    {
     "data": {
      "application/vnd.jupyter.widget-view+json": {
       "model_id": "",
       "version_major": 2,
       "version_minor": 0
      },
      "text/plain": [
       "question:   0%|          | 0/18 [00:00<?, ?it/s]"
      ]
     },
     "metadata": {},
     "output_type": "display_data"
    },
    {
     "data": {
      "application/vnd.jupyter.widget-view+json": {
       "model_id": "",
       "version_major": 2,
       "version_minor": 0
      },
      "text/plain": [
       "question:   0%|          | 0/5 [00:00<?, ?it/s]"
      ]
     },
     "metadata": {},
     "output_type": "display_data"
    },
    {
     "data": {
      "application/vnd.jupyter.widget-view+json": {
       "model_id": "",
       "version_major": 2,
       "version_minor": 0
      },
      "text/plain": [
       "question:   0%|          | 0/17 [00:00<?, ?it/s]"
      ]
     },
     "metadata": {},
     "output_type": "display_data"
    },
    {
     "data": {
      "application/vnd.jupyter.widget-view+json": {
       "model_id": "",
       "version_major": 2,
       "version_minor": 0
      },
      "text/plain": [
       "question:   0%|          | 0/5 [00:00<?, ?it/s]"
      ]
     },
     "metadata": {},
     "output_type": "display_data"
    },
    {
     "name": "stdout",
     "output_type": "stream",
     "text": [
      "file \"primer_parcial.gift.txt\" created\n",
      "you *should* copy:\n",
      "graph_dijkstra_1_236.svg to public_html/tatsc/parcial in hidra1\n",
      "graph_dijkstra_2_36.svg to public_html/tatsc/parcial in hidra1\n",
      "trellis_333321.svg to public_html/tatsc/parcial in hidra1\n",
      "trellis_133231.svg to public_html/tatsc/parcial in hidra1\n",
      "trellis_163.svg to public_html/tatsc/parcial in hidra1\n",
      "trellis_767.svg to public_html/tatsc/parcial in hidra1\n",
      "trellis_1635.svg to public_html/tatsc/parcial in hidra1\n"
     ]
    }
   ],
   "source": [
    "for subdir, filename in subdir_filename:\n",
    "\n",
    "    # the whole directory\n",
    "    dir = cwd / subdir\n",
    "\n",
    "    # full path\n",
    "    input_file = dir / filename\n",
    "    assert input_file.exists()\n",
    "\n",
    "    print(f'processing {input_file}...')\n",
    "    print('-'*20)\n",
    "\n",
    "    # changing to the appropriate directory\n",
    "    os.chdir(dir)\n",
    "\n",
    "    # the specified input file is processed\n",
    "    gift_wrapper.core.wrap(parameters_file.as_posix(), input_file.name, local_run=True, embed_images=False, no_checks=False)\n",
    "\n",
    "    # the output file produced\n",
    "    output_file = input_file.with_suffix('.gift.txt')\n",
    "    assert output_file.exists()\n",
    "\n",
    "    # the newly produced file is compared against the (desired) reference one\n",
    "    assert filecmp.cmp(dir / desired_output_file, output_file), f'the output for {input_file} has changed'\n",
    "    \n",
    "    # output file is deleted\n",
    "    output_file.unlink()"
   ]
  }
 ],
 "metadata": {
  "kernelspec": {
   "display_name": "Python 3 (ipykernel)",
   "language": "python",
   "name": "python3"
  },
  "language_info": {
   "codemirror_mode": {
    "name": "ipython",
    "version": 3
   },
   "file_extension": ".py",
   "mimetype": "text/x-python",
   "name": "python",
   "nbconvert_exporter": "python",
   "pygments_lexer": "ipython3",
   "version": "3.12.4"
  }
 },
 "nbformat": 4,
 "nbformat_minor": 4
}
